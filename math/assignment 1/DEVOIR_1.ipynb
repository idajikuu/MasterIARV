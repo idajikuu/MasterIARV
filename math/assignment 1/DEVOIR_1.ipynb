{
  "nbformat": 4,
  "nbformat_minor": 0,
  "metadata": {
    "colab": {
      "provenance": []
    },
    "kernelspec": {
      "name": "python3",
      "display_name": "Python 3"
    },
    "language_info": {
      "name": "python"
    }
  },
  "cells": [
    {
      "cell_type": "markdown",
      "source": [
        "**Loading a Dataset from the Google Drive to Google Colab**\n",
        "\n",
        "\n",
        "\n",
        "\n",
        "\n",
        "\n",
        "\n"
      ],
      "metadata": {
        "id": "DKMOzy4u4VPY"
      }
    },
    {
      "cell_type": "code",
      "source": [
        "from google.colab import drive\n",
        "drive.mount('/content/drive')"
      ],
      "metadata": {
        "id": "3l7SKHoZ2iO5",
        "colab": {
          "base_uri": "https://localhost:8080/",
          "height": 346
        },
        "outputId": "e00a1803-ed00-488b-9d16-7bff7805975a"
      },
      "execution_count": null,
      "outputs": [
        {
          "output_type": "error",
          "ename": "MessageError",
          "evalue": "ignored",
          "traceback": [
            "\u001b[0;31m---------------------------------------------------------------------------\u001b[0m",
            "\u001b[0;31mMessageError\u001b[0m                              Traceback (most recent call last)",
            "\u001b[0;32m<ipython-input-1-d5df0069828e>\u001b[0m in \u001b[0;36m<module>\u001b[0;34m\u001b[0m\n\u001b[1;32m      1\u001b[0m \u001b[0;32mfrom\u001b[0m \u001b[0mgoogle\u001b[0m\u001b[0;34m.\u001b[0m\u001b[0mcolab\u001b[0m \u001b[0;32mimport\u001b[0m \u001b[0mdrive\u001b[0m\u001b[0;34m\u001b[0m\u001b[0;34m\u001b[0m\u001b[0m\n\u001b[0;32m----> 2\u001b[0;31m \u001b[0mdrive\u001b[0m\u001b[0;34m.\u001b[0m\u001b[0mmount\u001b[0m\u001b[0;34m(\u001b[0m\u001b[0;34m'/content/drive'\u001b[0m\u001b[0;34m)\u001b[0m\u001b[0;34m\u001b[0m\u001b[0;34m\u001b[0m\u001b[0m\n\u001b[0m",
            "\u001b[0;32m/usr/local/lib/python3.8/dist-packages/google/colab/drive.py\u001b[0m in \u001b[0;36mmount\u001b[0;34m(mountpoint, force_remount, timeout_ms, readonly)\u001b[0m\n\u001b[1;32m     98\u001b[0m \u001b[0;32mdef\u001b[0m \u001b[0mmount\u001b[0m\u001b[0;34m(\u001b[0m\u001b[0mmountpoint\u001b[0m\u001b[0;34m,\u001b[0m \u001b[0mforce_remount\u001b[0m\u001b[0;34m=\u001b[0m\u001b[0;32mFalse\u001b[0m\u001b[0;34m,\u001b[0m \u001b[0mtimeout_ms\u001b[0m\u001b[0;34m=\u001b[0m\u001b[0;36m120000\u001b[0m\u001b[0;34m,\u001b[0m \u001b[0mreadonly\u001b[0m\u001b[0;34m=\u001b[0m\u001b[0;32mFalse\u001b[0m\u001b[0;34m)\u001b[0m\u001b[0;34m:\u001b[0m\u001b[0;34m\u001b[0m\u001b[0;34m\u001b[0m\u001b[0m\n\u001b[1;32m     99\u001b[0m   \u001b[0;34m\"\"\"Mount your Google Drive at the specified mountpoint path.\"\"\"\u001b[0m\u001b[0;34m\u001b[0m\u001b[0;34m\u001b[0m\u001b[0m\n\u001b[0;32m--> 100\u001b[0;31m   return _mount(\n\u001b[0m\u001b[1;32m    101\u001b[0m       \u001b[0mmountpoint\u001b[0m\u001b[0;34m,\u001b[0m\u001b[0;34m\u001b[0m\u001b[0;34m\u001b[0m\u001b[0m\n\u001b[1;32m    102\u001b[0m       \u001b[0mforce_remount\u001b[0m\u001b[0;34m=\u001b[0m\u001b[0mforce_remount\u001b[0m\u001b[0;34m,\u001b[0m\u001b[0;34m\u001b[0m\u001b[0;34m\u001b[0m\u001b[0m\n",
            "\u001b[0;32m/usr/local/lib/python3.8/dist-packages/google/colab/drive.py\u001b[0m in \u001b[0;36m_mount\u001b[0;34m(mountpoint, force_remount, timeout_ms, ephemeral, readonly)\u001b[0m\n\u001b[1;32m    121\u001b[0m       'TBE_EPHEM_CREDS_ADDR'] if ephemeral else _os.environ['TBE_CREDS_ADDR']\n\u001b[1;32m    122\u001b[0m   \u001b[0;32mif\u001b[0m \u001b[0mephemeral\u001b[0m\u001b[0;34m:\u001b[0m\u001b[0;34m\u001b[0m\u001b[0;34m\u001b[0m\u001b[0m\n\u001b[0;32m--> 123\u001b[0;31m     _message.blocking_request(\n\u001b[0m\u001b[1;32m    124\u001b[0m         'request_auth', request={'authType': 'dfs_ephemeral'}, timeout_sec=None)\n\u001b[1;32m    125\u001b[0m \u001b[0;34m\u001b[0m\u001b[0m\n",
            "\u001b[0;32m/usr/local/lib/python3.8/dist-packages/google/colab/_message.py\u001b[0m in \u001b[0;36mblocking_request\u001b[0;34m(request_type, request, timeout_sec, parent)\u001b[0m\n\u001b[1;32m    169\u001b[0m   request_id = send_request(\n\u001b[1;32m    170\u001b[0m       request_type, request, parent=parent, expect_reply=True)\n\u001b[0;32m--> 171\u001b[0;31m   \u001b[0;32mreturn\u001b[0m \u001b[0mread_reply_from_input\u001b[0m\u001b[0;34m(\u001b[0m\u001b[0mrequest_id\u001b[0m\u001b[0;34m,\u001b[0m \u001b[0mtimeout_sec\u001b[0m\u001b[0;34m)\u001b[0m\u001b[0;34m\u001b[0m\u001b[0;34m\u001b[0m\u001b[0m\n\u001b[0m",
            "\u001b[0;32m/usr/local/lib/python3.8/dist-packages/google/colab/_message.py\u001b[0m in \u001b[0;36mread_reply_from_input\u001b[0;34m(message_id, timeout_sec)\u001b[0m\n\u001b[1;32m    100\u001b[0m         reply.get('colab_msg_id') == message_id):\n\u001b[1;32m    101\u001b[0m       \u001b[0;32mif\u001b[0m \u001b[0;34m'error'\u001b[0m \u001b[0;32min\u001b[0m \u001b[0mreply\u001b[0m\u001b[0;34m:\u001b[0m\u001b[0;34m\u001b[0m\u001b[0;34m\u001b[0m\u001b[0m\n\u001b[0;32m--> 102\u001b[0;31m         \u001b[0;32mraise\u001b[0m \u001b[0mMessageError\u001b[0m\u001b[0;34m(\u001b[0m\u001b[0mreply\u001b[0m\u001b[0;34m[\u001b[0m\u001b[0;34m'error'\u001b[0m\u001b[0;34m]\u001b[0m\u001b[0;34m)\u001b[0m\u001b[0;34m\u001b[0m\u001b[0;34m\u001b[0m\u001b[0m\n\u001b[0m\u001b[1;32m    103\u001b[0m       \u001b[0;32mreturn\u001b[0m \u001b[0mreply\u001b[0m\u001b[0;34m.\u001b[0m\u001b[0mget\u001b[0m\u001b[0;34m(\u001b[0m\u001b[0;34m'data'\u001b[0m\u001b[0;34m,\u001b[0m \u001b[0;32mNone\u001b[0m\u001b[0;34m)\u001b[0m\u001b[0;34m\u001b[0m\u001b[0;34m\u001b[0m\u001b[0m\n\u001b[1;32m    104\u001b[0m \u001b[0;34m\u001b[0m\u001b[0m\n",
            "\u001b[0;31mMessageError\u001b[0m: Error: credential propagation was unsuccessful"
          ]
        }
      ]
    },
    {
      "cell_type": "markdown",
      "source": [
        "*Importing* libraries to read the .csv file"
      ],
      "metadata": {
        "id": "6VySP0dp45uO"
      }
    },
    {
      "cell_type": "code",
      "source": [
        "import pandas as pd\n",
        "import numpy as np"
      ],
      "metadata": {
        "id": "2L8BTqxg2jA-"
      },
      "execution_count": null,
      "outputs": []
    },
    {
      "cell_type": "markdown",
      "source": [
        "[texte du lien](https://)current working directory is /datasetMathAI"
      ],
      "metadata": {
        "id": "_ppLnJbH4wyk"
      }
    },
    {
      "cell_type": "code",
      "source": [
        "df = pd.read_csv('/content/drive/My Drive/datasetMathAI/heart.csv')\n",
        "sample1=pd.read_csv('/content/drive/My Drive/datasetMathAI/sample1.csv')\n",
        "sample2=pd.read_csv('/content/drive/My Drive/datasetMathAI/sample2.csv')\n",
        "sample1=sample1.drop('Unnamed: 0', axis=1)\n",
        "sample2=sample2.drop('Unnamed: 0', axis=1)"
      ],
      "metadata": {
        "id": "g1Aof0xH4psm"
      },
      "execution_count": null,
      "outputs": []
    },
    {
      "cell_type": "code",
      "source": [
        "df = df.drop_duplicates()"
      ],
      "metadata": {
        "id": "LXDxjejfK3F7"
      },
      "execution_count": null,
      "outputs": []
    },
    {
      "cell_type": "code",
      "source": [
        "df.head(5)"
      ],
      "metadata": {
        "id": "V7KhdMhy8n2m"
      },
      "execution_count": null,
      "outputs": []
    },
    {
      "cell_type": "code",
      "source": [
        "#type of each column\n",
        "df.dtypes"
      ],
      "metadata": {
        "id": "Dj7ss-lnHdxy"
      },
      "execution_count": null,
      "outputs": []
    },
    {
      "cell_type": "code",
      "source": [
        "df['ca'].unique()\n",
        "#4 ?????"
      ],
      "metadata": {
        "id": "Nhxte_u5AXW1"
      },
      "execution_count": null,
      "outputs": []
    },
    {
      "cell_type": "code",
      "source": [
        "df.loc[df['ca'] == 4]"
      ],
      "metadata": {
        "id": "dmENFnsRAarE"
      },
      "execution_count": null,
      "outputs": []
    },
    {
      "cell_type": "code",
      "source": [
        "print(sum(df['ca'] == 4))\n",
        "#18 rows"
      ],
      "metadata": {
        "id": "G2GWn-wWB6J7"
      },
      "execution_count": null,
      "outputs": []
    },
    {
      "cell_type": "code",
      "source": [
        "df['thal'].unique()\n",
        "#3 ?????"
      ],
      "metadata": {
        "id": "C-DLfrPtAzYZ"
      },
      "execution_count": null,
      "outputs": []
    },
    {
      "cell_type": "code",
      "source": [
        "print(sum(df['thal'] == 3))\n",
        "#410 rows"
      ],
      "metadata": {
        "id": "ZsebboX0BJaS"
      },
      "execution_count": null,
      "outputs": []
    },
    {
      "cell_type": "code",
      "source": [
        "#delete rows\n",
        "df = df[ (df['ca'] != 4) & (df['thal'] != 3)]"
      ],
      "metadata": {
        "id": "oxbsEFSsBlkz"
      },
      "execution_count": null,
      "outputs": []
    },
    {
      "cell_type": "code",
      "source": [
        "df['ca'].unique()"
      ],
      "metadata": {
        "id": "hZsypCOXGj5K"
      },
      "execution_count": null,
      "outputs": []
    },
    {
      "cell_type": "code",
      "source": [
        "df.shape"
      ],
      "metadata": {
        "id": "1PH6nVWaNKeV"
      },
      "execution_count": null,
      "outputs": []
    },
    {
      "cell_type": "code",
      "source": [
        "#we use this later\n",
        "#cols_to_scale=['age','trestbps','chol','thalach','oldpeak']\n",
        "#from sklearn.preprocessing import MinMaxScaler\n",
        "#scaler=MinMaxScaler()\n",
        "#df[cols_to_scale]=scaler.fit_transform(df[cols_to_scale])"
      ],
      "metadata": {
        "id": "RPO_NzWroMri"
      },
      "execution_count": null,
      "outputs": []
    },
    {
      "cell_type": "code",
      "source": [
        "import seaborn as sns\n",
        "import matplotlib.pyplot as plt"
      ],
      "metadata": {
        "id": "_xHwVPvYZkYs"
      },
      "execution_count": null,
      "outputs": []
    },
    {
      "cell_type": "code",
      "source": [
        "sns.color_palette(\"mako\", as_cmap=True)\n"
      ],
      "metadata": {
        "id": "pvWl4_EyZsc3"
      },
      "execution_count": null,
      "outputs": []
    },
    {
      "cell_type": "code",
      "source": [
        "sns.set_palette(\"Paired\")"
      ],
      "metadata": {
        "id": "xqln6Mnea5gg"
      },
      "execution_count": null,
      "outputs": []
    },
    {
      "cell_type": "code",
      "source": [
        "df2 = df[df.isnull()== False]\n",
        "df2.isnull().sum()"
      ],
      "metadata": {
        "id": "KUmhm6e0KTnA"
      },
      "execution_count": null,
      "outputs": []
    },
    {
      "cell_type": "markdown",
      "source": [
        "# Looping through all the features \n",
        "\n",
        "features = ['sex', 'cp', 'fbs', 'restecg','exang','slope','ca','thal']\n",
        "\n",
        "for f in features:\n",
        "    sns.countplot(x = f, data = df)\n",
        "    plt.show()"
      ],
      "metadata": {
        "id": "498-VzfaxcIZ"
      }
    },
    {
      "cell_type": "markdown",
      "source": [
        "# Looping through all the features by our y variable - see if there is relationship\n",
        "\n",
        "features = ['sex', 'cp', 'fbs', 'restecg','exang','slope','ca','thal']\n",
        "\n",
        "for f in features:\n",
        "    sns.countplot(x = f, data = df, hue = 'target')\n",
        "    plt.show()"
      ],
      "metadata": {
        "id": "DTfwcsBfxe8m"
      }
    },
    {
      "cell_type": "code",
      "source": [
        "df.duplicated().sum()"
      ],
      "metadata": {
        "id": "_dTzegV_LuCF"
      },
      "execution_count": null,
      "outputs": []
    },
    {
      "cell_type": "markdown",
      "source": [
        "# **sampling, descriptive statistics**"
      ],
      "metadata": {
        "id": "pA93IwGXk0LV"
      }
    },
    {
      "cell_type": "code",
      "source": [
        "df['target'].value_counts()"
      ],
      "metadata": {
        "id": "Tdu4EtZ6kvmT"
      },
      "execution_count": null,
      "outputs": []
    },
    {
      "cell_type": "code",
      "source": [
        "import statistics as stats\n",
        "import math"
      ],
      "metadata": {
        "id": "eibupPXrgYKw"
      },
      "execution_count": null,
      "outputs": []
    },
    {
      "cell_type": "code",
      "source": [
        "sample1=pd.read_csv('/content/drive/My Drive/datasetMathAI/sample1.csv')\n",
        "sample2=pd.read_csv('/content/drive/My Drive/datasetMathAI/sample2.csv')\n",
        "sample1.head(1)"
      ],
      "metadata": {
        "id": "qnXPK4KYv5wn"
      },
      "execution_count": null,
      "outputs": []
    },
    {
      "cell_type": "code",
      "source": [
        "#Sampling without Replacement \n",
        "#dropping duplicates so there's no biased values and we are left with distinct rows\n",
        "listVar = ['age','sex','cp','fbs','restecg','exang','slope','ca','thal','trestbps','chol','thalach','oldpeak']\n",
        "listVarQuant = ['age','trestbps','chol','thalach','oldpeak']\n",
        "listVarQualt = ['sex','cp','fbs','restecg','exang','slope','ca','thal']\n"
      ],
      "metadata": {
        "id": "kLkc38yqdV2c"
      },
      "execution_count": null,
      "outputs": []
    },
    {
      "cell_type": "code",
      "source": [
        "df[listVarQuant].describe()"
      ],
      "metadata": {
        "id": "pAvifCJ6qmrB"
      },
      "execution_count": null,
      "outputs": []
    },
    {
      "cell_type": "code",
      "source": [
        " #Mesures of variability \n",
        "#Standard deviation is useful when comparing the spread of two separate data sets that have approximately the same mean\n",
        "def populationVariance(data): \n",
        "  N = len(data)\n",
        "  variance = []\n",
        "  for feature in listVarQuant :\n",
        "    mean = stats.mean(data[feature])\n",
        "    deviations = [(x - mean) ** 2 for x in data[feature]]\n",
        "    variance.append(sum(deviations) / N)\n",
        "  return variance\n",
        "def sampleVariance(data): \n",
        "  n = len(data)\n",
        "  variance = []\n",
        "  for feature in listVarQuant :\n",
        "    mean = stats.mean(data[feature])\n",
        "    deviations = [(x - mean) ** 2 for x in data[feature]]\n",
        "    variance.append(abs(sum(deviations) / n-1))\n",
        "  return variance\n",
        "  \n"
      ],
      "metadata": {
        "id": "ceb_PQa4mt8M"
      },
      "execution_count": null,
      "outputs": []
    },
    {
      "cell_type": "code",
      "source": [
        "df[listVarQuant].describe()"
      ],
      "metadata": {
        "id": "azHjoR5KQiq7"
      },
      "execution_count": null,
      "outputs": []
    },
    {
      "cell_type": "code",
      "source": [
        "varianceFrame = pd.DataFrame([populationVariance(df),sampleVariance(sample1),\n",
        "                             sampleVariance(sample2)],\n",
        "    columns = ['age','trestbps','chol','thalach','oldpeak'],\n",
        "    index = ['original dataset','sample1','sample2']\n",
        ")\n",
        "varianceFrame"
      ],
      "metadata": {
        "id": "jXJ3_Vvimt8M"
      },
      "execution_count": null,
      "outputs": []
    },
    {
      "cell_type": "code",
      "source": [
        "def stddeviation(Variance):\n",
        "  stddev = []\n",
        "  for feature in range(len(Variance)) :\n",
        "    stddev.append(math.sqrt(Variance[feature]))\n",
        "  return stddev"
      ],
      "metadata": {
        "id": "pfLXcLnLdkgP"
      },
      "execution_count": null,
      "outputs": []
    },
    {
      "cell_type": "code",
      "source": [
        "stddev0=stddeviation(populationVariance(df))\n",
        "stddev1=stddeviation(sampleVariance(sample1))\n",
        "stddev2=stddeviation(sampleVariance(sample2))\n",
        "stddeviation = pd.DataFrame([stddev0,stddev1,stddev2],\n",
        "    columns = ['age','trestbps','chol','thalach','oldpeak'],\n",
        "    index = ['original dataset','sample1','sample2']\n",
        ")\n",
        "stddeviation\n"
      ],
      "metadata": {
        "id": "NU8BlcFhdkJs"
      },
      "execution_count": null,
      "outputs": []
    },
    {
      "cell_type": "code",
      "source": [
        "def approxError(population,sample):\n",
        "  approxError = []\n",
        "  sumError = 0\n",
        "  for i in range(len(sample)) :\n",
        "    sumError += abs(population[i] - sample[i])/population[i]\n",
        "    approxError.append(str(round(sumError,7))+'%')\n",
        "  approxError.append(str(round(sumError/5,7))+'%')  \n",
        "  return approxError\n"
      ],
      "metadata": {
        "id": "LY-ytaKshwyD"
      },
      "execution_count": null,
      "outputs": []
    },
    {
      "cell_type": "code",
      "source": [
        "approxError1 = approxError(stddev0,stddev1)\n",
        "approxError2 = approxError(stddev0,stddev2)\n",
        "approxError = pd.DataFrame([approxError1,approxError2],\n",
        "    columns = ['age','trestbps','chol','thalach','oldpeak','general error'],\n",
        "    index = ['sample1','sample2']\n",
        ")\n",
        "approxError"
      ],
      "metadata": {
        "id": "kJaTlLwyiUHS"
      },
      "execution_count": null,
      "outputs": []
    },
    {
      "cell_type": "code",
      "source": [
        "import math\n",
        "def coeff_var(variance, data):\n",
        "  listCoefVar =[]\n",
        "  for fvar, fmean in zip(range(len(variance)), listVarQuant ):\n",
        "    coeff_var = math.sqrt(variance[fvar])/stats.mean(data[fmean])*100\n",
        "    listCoefVar.append(coeff_var)\n",
        "  return listCoefVar\n",
        "\n"
      ],
      "metadata": {
        "id": "xFlRN3_5E9l6"
      },
      "execution_count": null,
      "outputs": []
    },
    {
      "cell_type": "code",
      "source": [
        "populationCoeff = coeff_var(populationVariance(df),df)\n",
        "sample1Coeff = coeff_var(sampleVariance(sample1),sample1)\n",
        "sample2Coeff = coeff_var(sampleVariance(sample2),sample2)\n",
        "tableCoefVar = pd.DataFrame([populationCoeff,sample1Coeff,sample2Coeff],\n",
        "    columns = ['age','trestbps','chol','thalach','oldpeak'],\n",
        "    index = ['population','sample1','sample2']\n",
        ")\n",
        "tableCoefVar"
      ],
      "metadata": {
        "id": "YwcEtqSl9kBV"
      },
      "execution_count": null,
      "outputs": []
    },
    {
      "cell_type": "markdown",
      "source": [
        "# **graphes**"
      ],
      "metadata": {
        "id": "cXsX3eEWbNHo"
      }
    },
    {
      "cell_type": "code",
      "source": [
        "import seaborn as sns\n",
        "import matplotlib.pyplot as plt"
      ],
      "metadata": {
        "id": "Fpnv3aq2SlXF"
      },
      "execution_count": null,
      "outputs": []
    },
    {
      "cell_type": "code",
      "source": [
        "#afficher le nombre d’observations dans chaque colonne catégoriel à l’aide de barres.\n",
        "fig, ax = plt.subplots(2,4,figsize=(20,10))\n",
        "l=0\n",
        "c=0\n",
        "d=0\n",
        "for l in range(2):\n",
        "  for c in range(4):\n",
        "    sns.countplot(ax=ax[l,c],x=listVarQualt[d], data=sample1,palette=['peru',\"firebrick\",\"maroon\",\"darkred\"])\n",
        "    d=d+1\n",
        "  "
      ],
      "metadata": {
        "id": "NV_3Kv86q-a8"
      },
      "execution_count": null,
      "outputs": []
    },
    {
      "cell_type": "code",
      "source": [
        "import seaborn as sns\n",
        "import matplotlib.pyplot as plt\n",
        "sample1.groupby('sex').age.plot(kind='kde')\n",
        "plt.legend(['female','male'])\n"
      ],
      "metadata": {
        "id": "I4QirMpPzKaW"
      },
      "execution_count": null,
      "outputs": []
    },
    {
      "cell_type": "code",
      "source": [
        "#df.groupby(['cp']).sum().plot(kind='pie', y='target')"
      ],
      "metadata": {
        "id": "HHDf9Nmip41X"
      },
      "execution_count": null,
      "outputs": []
    },
    {
      "cell_type": "code",
      "source": [
        "sns.displot(data=sample1, x='age',y='sex',col='target', kind=\"kde\",color='sienna')\n"
      ],
      "metadata": {
        "id": "5n1XtQaL_a9Q"
      },
      "execution_count": null,
      "outputs": []
    },
    {
      "cell_type": "code",
      "source": [
        "#distribution of each quantative feature in relation with population\n",
        "rows, cols = 3,3\n",
        "fig, axarr = plt.subplots(rows, cols, figsize=(cols*5, rows*3))\n",
        "for row in range(rows):\n",
        "    for col in range(cols):\n",
        "        ax = axarr[row, col]\n",
        "        sns.distplot(sample1[listVarQuant[row+col]], ax=ax,color='sienna')\n",
        "#normal distribution for: age, trestbps and almost for chol\n",
        "#oldpeak is left-skewed\n",
        "#thalac is right-skewed\n"
      ],
      "metadata": {
        "id": "Y-P-5CeQ0doR"
      },
      "execution_count": null,
      "outputs": []
    },
    {
      "cell_type": "code",
      "source": [
        "fig, ax = plt.subplots(2,1,figsize=(10,10)) \n",
        "#covariance matrix\n",
        "cov=sample1[listVarQuant].cov()\n",
        "#, print(cov)\n",
        "sns.heatmap(cov, annot=True, fmt='g', xticklabels=listVarQuant, yticklabels=listVarQuant, cmap='YlGnBu',ax=ax[0])\n",
        "plt.title('sample covariance matrix')\n",
        "\n",
        "                                                                         \n",
        "#population\n",
        "cov=df[listVarQuant].cov()\n",
        "sns.heatmap(cov, annot=True, fmt='g', xticklabels=listVarQuant, yticklabels=listVarQuant, cmap='YlGnBu',ax=ax[1])\n",
        "plt.title('population covariance matrix')\n",
        "plt.show()\n",
        "#np.cov(df['age'],df['trestbps'],df['chol'],df['thalach'],df['oldpeak'])"
      ],
      "metadata": {
        "id": "56012_FPraXk"
      },
      "execution_count": null,
      "outputs": []
    },
    {
      "cell_type": "code",
      "source": [
        "#correlation coefficient of Pearson(r)\n",
        "fig = plt.subplots(figsize=(7,6)) \n",
        "sns.heatmap(sample1[listVarQuant].corr(), annot=True, fmt='g', xticklabels=listVarQuant, yticklabels=listVarQuant, cmap='YlGnBu')\n",
        "plt.show()"
      ],
      "metadata": {
        "id": "4SrvRYObUUnT"
      },
      "execution_count": null,
      "outputs": []
    },
    {
      "cell_type": "code",
      "source": [
        "#corr\n",
        "#coefficient de correlation de Pearson(r)\n",
        "fig = plt.subplots(figsize=(7,6)) \n",
        "sns.heatmap(sample1[listVarQuant].corr(), annot=True, fmt='g', xticklabels=listVarQuant, yticklabels=listVarQuant, cmap='YlGnBu')\n",
        "plt.show()\n",
        "#f, ax = plt.subplots(figsize =(9, 8))\n",
        "#sns.heatmap(corrmat, ax = ax, cmap =\"YlGnBu\", linewidths = 0.01)"
      ],
      "metadata": {
        "id": "9t-lrC9Frv19"
      },
      "execution_count": null,
      "outputs": []
    },
    {
      "cell_type": "code",
      "source": [
        "#low correlation, indépendance lineaire"
      ],
      "metadata": {
        "id": "mRJ8pOGF_Ugc"
      },
      "execution_count": null,
      "outputs": []
    },
    {
      "cell_type": "code",
      "source": [
        "datareg=sample1\n",
        "fig, ax = plt.subplots(4,4,figsize=(20,13))\n",
        "fig.suptitle('linear regression')\n",
        "\n",
        "sns.regplot(ax=ax[0,0],y='age', x='trestbps', data=datareg,color='firebrick',marker='x')\n",
        "sns.regplot(ax=ax[0,1],y='age', x='chol', data=datareg,color='firebrick',marker='x')\n",
        "sns.regplot(ax=ax[0,2],y='age', x='thalach', data=datareg,color='firebrick',marker='x')\n",
        "sns.regplot(ax=ax[0,3],y='age', x='oldpeak', data=datareg,color='firebrick',marker='x')\n",
        "\n",
        "sns.regplot(ax=ax[1,1],y='trestbps', x='chol', data=datareg,color='firebrick',marker='x')\n",
        "sns.regplot(ax=ax[1,2],y='trestbps', x='thalach', data=datareg,color='firebrick',marker='x')\n",
        "sns.regplot(ax=ax[1,3],y='trestbps', x='oldpeak', data=datareg,color='firebrick',marker='x')\n",
        "\n",
        "sns.regplot(ax=ax[2,2],y='chol', x='thalach', data=datareg,color='firebrick',marker='x')\n",
        "sns.regplot(ax=ax[2,3],y='chol', x='oldpeak', data=datareg,color='firebrick',marker='x')\n",
        "\n",
        "sns.regplot(ax=ax[3,3],y='thalach', x='oldpeak', data=datareg,color='firebrick',marker='x')\n",
        "\n",
        "\n",
        "#correlation lineaire\n",
        "#fig, ax = plt.subplots(5,5,figsize=(25,20))\n",
        "#listVarQuant\n",
        "#c=0\n",
        "#d=0\n",
        "#for f in listVarQuant:\n",
        "  #for j in listVarQuant[0:(c)]:\n",
        "    #sns.regplot(ax=ax[c,d], x=f, y=j, data=df, color='firebrick',marker='x')\n",
        "    #d=d+1\n",
        "  #c=c+1\n",
        "  #d=0\n"
      ],
      "metadata": {
        "id": "Gg0kCnBhZDNA"
      },
      "execution_count": null,
      "outputs": []
    },
    {
      "cell_type": "code",
      "source": [
        "colAge=df['age']\n",
        "colTarget=df['target']"
      ],
      "metadata": {
        "id": "rSIipn5N5M4O"
      },
      "execution_count": null,
      "outputs": []
    },
    {
      "cell_type": "code",
      "source": [
        "t1=colTarget==1\n",
        "t0=colTarget==0"
      ],
      "metadata": {
        "id": "Ky7MlnL35PGj"
      },
      "execution_count": null,
      "outputs": []
    },
    {
      "cell_type": "code",
      "source": [
        "t1Age=colAge[t1].dropna()\n",
        "t0Age=colAge[t0].dropna()"
      ],
      "metadata": {
        "id": "xGGUqGqo5PnB"
      },
      "execution_count": null,
      "outputs": []
    },
    {
      "cell_type": "code",
      "source": [
        "import scipy.stats as st\n",
        "st.f_oneway(,)"
      ],
      "metadata": {
        "id": "ekajbFO25VcG"
      },
      "execution_count": null,
      "outputs": []
    },
    {
      "cell_type": "code",
      "source": [
        "import statsmodels.api as sm\n",
        "from statsmodels.formula.api import ols\n",
        "\n",
        "model=ols('age ~ target', data=df).fit()\n",
        "anovaResult=sm.stats.anova_lm(model, typ=2)\n",
        "print(anovaResult)\n"
      ],
      "metadata": {
        "id": "lYXRxf8V5nlh"
      },
      "execution_count": null,
      "outputs": []
    },
    {
      "cell_type": "markdown",
      "source": [
        "![image.png](data:image/png;base64,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)"
      ],
      "metadata": {
        "id": "V0AuAuDEBWAA"
      }
    },
    {
      "cell_type": "markdown",
      "source": [
        "![image.png](data:image/png;base64,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)"
      ],
      "metadata": {
        "id": "Wec2NoAMgFoY"
      }
    },
    {
      "cell_type": "code",
      "source": [
        "\n",
        "len(sample1[sample1.target == 0]['age'])\n",
        "len(sample1[sample1.target == 1]['age'])"
      ],
      "metadata": {
        "id": "ie-hGf-9Q_9Y"
      },
      "execution_count": null,
      "outputs": []
    },
    {
      "cell_type": "markdown",
      "source": [
        "The ANOVA test has important assumptions that must be satisfied in order for the associated p-value to be valid.\n",
        "\n",
        "The samples are independent.\n",
        "\n",
        "Each sample is from a normally distributed population.\n",
        "\n",
        "The population standard deviations of the groups are all equal. This property is known as homoscedasticity."
      ],
      "metadata": {
        "id": "ZLm0LKHxk21G"
      }
    },
    {
      "cell_type": "code",
      "source": [
        "import statsmodels.api as sm\n",
        "from statsmodels.formula.api import ols\n",
        "\n",
        "model = ols('age ~ C(target)', data=sample1).fit()\n",
        "aov_table = sm.stats.anova_lm(model, typ=2)\n",
        "aov_table"
      ],
      "metadata": {
        "id": "ZgE3slzXjxVf"
      },
      "execution_count": null,
      "outputs": []
    },
    {
      "cell_type": "code",
      "source": [
        "sample1=pd.read_csv('/content/drive/My Drive/datasetMathAI/sample1.csv')\n",
        "sample1=sample1.drop('Unnamed: 0', axis=1)"
      ],
      "metadata": {
        "id": "JyUdCL_iVTwX"
      },
      "execution_count": null,
      "outputs": []
    },
    {
      "cell_type": "code",
      "source": [
        "n = len(sample1)\n",
        "k = len(sample1['target'].unique())\n",
        "samplesize_target0 =  len(sample1[sample1.target == 0]['age'])\n",
        "samplesize_target1 =  len(sample1[sample1.target == 1]['age'])\n",
        "# Calculate Means \n",
        "mean_target0 = sample1[sample1.target == 0]['age'].mean()\n",
        "mean_target1 = sample1[sample1.target == 1]['age'].mean()\n",
        "mean_overall = sample1['age'].mean()\n",
        "\n",
        "# Calculate Variances \n",
        "var_target0 = sample1[sample1.target == 0]['age'].var()\n",
        "var_target1 = sample1[sample1.target == 1]['age'].var()\n",
        "\n",
        "# the sum of the squared deviations of the sample averages from the overall average, weighted by the size of the samples\n",
        "SSG = samplesize_target0 * (mean_overall - mean_target0)**2 + \\\n",
        "      samplesize_target1 *(mean_overall - mean_target1)**2 \n",
        "\n",
        "#the sum of the squared deviations within samples from the sample averages\n",
        "SSE = (samplesize_target0 - 1) * var_target0 + \\\n",
        "      (samplesize_target1 - 1) * var_target1 \n",
        "\n",
        "#total squared deviation (from the average)\n",
        "SST = SSE + SSG\n",
        "\n",
        "# Degrees of Freedom \n",
        "dof_SSG = k - 1\n",
        "dof_SSE = n - k\n",
        "dof_SST = n - 1 \n",
        "#\n",
        "MSG = (SSG/dof_SSG)\n",
        "MSE = (SSE/dof_SSE)\n",
        "\n",
        "# F Stastics \n",
        "f_stat = MSG / MSE\n",
        "\n",
        "tableAnova_agetarget = pd.DataFrame([[round(SSG,4),dof_SSG,round(MSG,4),f_stat],[SSE,dof_SSE,MSE,''],[SST,n-1,'','']],\n",
        "    columns = ['SS','df','MS','f-statistic'],\n",
        "    index = ['Group','Error','Total']\n",
        ")\n",
        "tableAnova_agetarget"
      ],
      "metadata": {
        "id": "3zudp_4cBHZk"
      },
      "execution_count": null,
      "outputs": []
    },
    {
      "cell_type": "markdown",
      "source": [
        "https://stattrek.com/online-calculator/f-distribution\n",
        "![image.png](data:image/png;base64,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)"
      ],
      "metadata": {
        "id": "2cXTFzBlxKA5"
      }
    },
    {
      "cell_type": "code",
      "source": [
        "#statistically significant, null hypothesis rejected "
      ],
      "metadata": {
        "id": "ItTmrQBGOpbI"
      },
      "execution_count": null,
      "outputs": []
    },
    {
      "cell_type": "code",
      "source": [
        "sns.set_style(\"white\")\n",
        "plt.figure(figsize=(11, 6))\n",
        "labels=['no','yes']\n",
        "for num in sample1['target'].unique():\n",
        "  sns.distplot(sample1[sample1.target == num].age, kde_kws=dict(linewidth=3),label=labels[num])\n",
        "    \n",
        "plt.legend(title=' diagnosis of heart disease \\n(angiographic disease status)', fontsize=13,loc=\"upper left\")\n",
        "plt.xlabel('age', fontsize=15)\n",
        "plt.xticks(fontsize=12)\n",
        "plt.yticks(fontsize=12)\n",
        "\n",
        "plt.show()"
      ],
      "metadata": {
        "id": "PmiKh8sEl5nr"
      },
      "execution_count": null,
      "outputs": []
    },
    {
      "cell_type": "code",
      "source": [
        "cols_to_scale=['age','trestbps','chol','thalach','oldpeak']\n",
        "from sklearn import preprocessing\n",
        "from sklearn.decomposition import PCA\n",
        "\n",
        "scaler_data=preprocessing.scale(df[cols_to_scale])"
      ],
      "metadata": {
        "id": "t2PECf7XfmQu"
      },
      "execution_count": null,
      "outputs": []
    },
    {
      "cell_type": "code",
      "source": [
        "scaler_data\n",
        "#matrice ((x-u)/v)"
      ],
      "metadata": {
        "id": "W4RMnYV0frGH"
      },
      "execution_count": null,
      "outputs": []
    },
    {
      "cell_type": "code",
      "source": [
        "#prendre 3 variables importante depuis les 5\n",
        "pca=PCA(n_components=3)\n",
        "pca.fit(scaler_data)\n",
        "pca_data=pca.transform(scaler_data)"
      ],
      "metadata": {
        "id": "3iDSA-2Of8h-"
      },
      "execution_count": null,
      "outputs": []
    },
    {
      "cell_type": "code",
      "source": [
        "pca_data"
      ],
      "metadata": {
        "id": "svBT9wwmgXVs"
      },
      "execution_count": null,
      "outputs": []
    },
    {
      "cell_type": "code",
      "source": [
        "#features importance\n",
        "per_var=np.round(pca.explained_variance_ratio_*100, decimals=2)\n",
        "per_var"
      ],
      "metadata": {
        "id": "6R2DpKJLfuBo"
      },
      "execution_count": null,
      "outputs": []
    },
    {
      "cell_type": "code",
      "source": [
        "pcomponnts=['age', 'trestbps', 'chol']"
      ],
      "metadata": {
        "id": "SQq3xwJphLHY"
      },
      "execution_count": null,
      "outputs": []
    },
    {
      "cell_type": "code",
      "source": [
        "labels=['PC'+str(x) for x in range(1,len(per_var)+1)]\n",
        "plt.bar(x=range(1,len(per_var)+1), height=per_var, tick_label=labels,color='sienna' )\n",
        "plt.title('Scree Plot')\n",
        "plt.xlabel('Principal Component')\n",
        "plt.ylabel('Variance Explained')\n",
        "plt.show()"
      ],
      "metadata": {
        "id": "fd46KQHBhMsC"
      },
      "execution_count": null,
      "outputs": []
    },
    {
      "cell_type": "code",
      "source": [
        "PC_values = np.arange(pca.n_components_) + 1\n",
        "plt.plot(PC_values, pca.explained_variance_ratio_, 'o-', linewidth=2, color='blue')\n",
        "plt.title('Scree Plot')\n",
        "plt.xlabel('Principal Component')\n",
        "plt.ylabel('Variance Explained')\n",
        "plt.show()"
      ],
      "metadata": {
        "id": "7UXm02FPhQKq"
      },
      "execution_count": null,
      "outputs": []
    },
    {
      "cell_type": "code",
      "source": [
        "import seaborn as sns"
      ],
      "metadata": {
        "id": "4rtPjti6lb9b"
      },
      "execution_count": null,
      "outputs": []
    },
    {
      "cell_type": "code",
      "source": [
        "import plotly.express as px\n",
        "\n",
        "#df = px.data.df()\n",
        "fig = px.scatter_matrix(\n",
        "    pca_data,\n",
        "    labels=per_var,\n",
        "    dimensions=(range(3)),\n",
        "    color=df[\"target\"]\n",
        ")\n",
        "fig.update_traces(diagonal_visible=False)\n",
        "fig.show()"
      ],
      "metadata": {
        "id": "D_lrjadZkxkB"
      },
      "execution_count": null,
      "outputs": []
    },
    {
      "cell_type": "code",
      "source": [
        "cov_matrix=np.matmul(scaler_data.T,scaler_data)\n",
        "cov_matrix"
      ],
      "metadata": {
        "id": "gOOFp9lwtA2X"
      },
      "execution_count": null,
      "outputs": []
    },
    {
      "cell_type": "code",
      "source": [
        "from scipy.linalg import eigh\n",
        "values, vectors=eigh(cov_matrix)\n",
        "values"
      ],
      "metadata": {
        "id": "nnebI2CXtD3g"
      },
      "execution_count": null,
      "outputs": []
    },
    {
      "cell_type": "code",
      "source": [
        "vectors"
      ],
      "metadata": {
        "id": "duQz10YjtD5Q"
      },
      "execution_count": null,
      "outputs": []
    },
    {
      "cell_type": "code",
      "source": [
        "pcs = pd.DataFrame(list(zip(pca_data[:,0], pca_data[:,1], pca_data[:,2], df['target'])),columns =['pc1', 'pc2', 'pc3', 'target']) \n",
        "fig = px.scatter_3d(pcs, x='pc1', y='pc2', z='pc3',color='target')\n",
        "fig.show()"
      ],
      "metadata": {
        "id": "IRYYYa9ghRr2"
      },
      "execution_count": null,
      "outputs": []
    },
    {
      "cell_type": "code",
      "source": [
        "\n",
        "def plot_correlation_circle(pc1, pc2):    \n",
        "    fig, ax = plt.subplots(figsize=(16, 10))\n",
        "\n",
        "    for i in range(X.shape[1]):\n",
        "        x = np.corrcoef(pc1,X[X.columns[i]])[0,1]\n",
        "        y = np.corrcoef(pc2,X[X.columns[i]])[0,1]\n",
        "        ax.annotate(\"\", xy= (x,y), xytext=(0, 0),arrowprops=dict(arrowstyle=\"->\"))\n",
        "        ax.annotate(X.columns[i], (x+0.02,y+0.02), size=12)\n",
        "\n",
        "\n",
        "    ax.set_title('Correlation circle')\n",
        "    ax.axhline(y=0, color=\"grey\", linestyle=\"--\")\n",
        "    ax.axvline(x=0, color=\"grey\", linestyle=\"--\")\n",
        "\n",
        "    an = np.linspace(0, 2 * np.pi, 100)\n",
        "    plt.plot(np.cos(an), np.sin(an))\n",
        "    plt.axis('equal')\n",
        "    plt.show()\n",
        "    \n",
        "plot_correlation_circle(pc1,pc2)"
      ],
      "metadata": {
        "id": "81RiSTX5hhGY"
      },
      "execution_count": null,
      "outputs": []
    }
  ]
}